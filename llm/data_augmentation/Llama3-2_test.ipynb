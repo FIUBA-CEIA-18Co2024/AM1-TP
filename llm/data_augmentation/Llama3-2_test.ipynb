{
 "cells": [
  {
   "cell_type": "code",
   "execution_count": 1,
   "metadata": {},
   "outputs": [
    {
     "name": "stdout",
     "output_type": "stream",
     "text": [
      "Using cuda device\n"
     ]
    }
   ],
   "source": [
    "import torch\n",
    "if torch.cuda.is_available():\n",
    "    device = torch.device(\"cuda\")\n",
    "else:\n",
    "    device = torch.device(\"cpu\")\n",
    "print(\"Using\", device, \"device\")"
   ]
  },
  {
   "cell_type": "code",
   "execution_count": null,
   "metadata": {},
   "outputs": [],
   "source": [
    "import torch\n",
    "from transformers import pipeline\n",
    "from tqdm import tqdm\n",
    "import pandas as pd\n",
    "\n",
    "model_id = \"meta-llama/Llama-3.2-3B\"\n",
    "\n",
    "pipe = pipeline(\n",
    "    \"text-generation\", \n",
    "    model=model_id, \n",
    "    torch_dtype=torch.bfloat16, \n",
    "    device_map=\"auto\"\n",
    ")\n",
    "\n",
    "pipe(\"Negative reviews of hotels\")\n",
    "\n",
    "# Define prompts for different star ratings\n",
    "prompts = {\n",
    "    1: \"Write a very negative hotel review, describing poor service, dirty rooms, rude staff, and long wait times. Make it very clear that the guest had an unpleasant experience. In the subject line of your email, you should include the words “I’m writing this review because…” This will make it easier for the hotel to identify the review as a complaint.\",\n",
    "    2: \"Write a negative hotel review, mentioning average service, some cleanliness issues, and minor inconvenience during the stay.\",\n",
    "    3: \"Write a neutral hotel review, highlighting some good aspects but mentioning a few flaws.\",\n",
    "    4: \"Write a positive hotel review, mentioning clean rooms, good service, and pleasant stay.\",\n",
    "    5: \"Write an excellent hotel review praising the hotel staff, cleanliness, amenities, and overall experience.\"\n",
    "}\n",
    "\n",
    "# Generate fake reviews\n",
    "reviews = []\n",
    "number_of_reviews = 10\n",
    "total_reviews = len(prompts) * number_of_reviews  # 20 reviews per rating\n",
    "\n",
    "with tqdm(total=total_reviews) as pbar:\n",
    "    for rating, prompt in prompts.items():\n",
    "        for _ in range(number_of_reviews):  # Generate 20 reviews for each rating\n",
    "            generated = pipe(\n",
    "                prompt,\n",
    "                max_new_tokens=200,  # Set max length of generated text\n",
    "                do_sample=True,      # Enable sampling for diverse outputs\n",
    "                top_k=50,            # Use top-k sampling\n",
    "                top_p=0.9,           # Narrow the sampling to the top 90% most likely tokens\n",
    "                temperature=1,       # Randomness in output\n",
    "                truncation=True,     # Explicitly enable truncation\n",
    "                pad_token_id=50256   # Padding token ID for models like GPT-2/3\n",
    "            )\n",
    "            # Remove the prompt from the generated text\n",
    "            full_text = generated[0][\"generated_text\"]\n",
    "            review = full_text[len(prompt):].strip()  # Remove the prompt from the start\n",
    "            reviews.append({\"review\": review, \"rating\": rating})\n",
    "            pbar.update(1)\n",
    "\n",
    "import pandas as pd\n",
    "df = pd.DataFrame(reviews)\n",
    "display(df)"
   ]
  },
  {
   "cell_type": "code",
   "execution_count": 1,
   "metadata": {},
   "outputs": [
    {
     "data": {
      "text/plain": [
       "'Device: cuda'"
      ]
     },
     "metadata": {},
     "output_type": "display_data"
    },
    {
     "data": {
      "text/plain": [
       "'Model: meta-llama/Llama-3.2-3B-Instruct'"
      ]
     },
     "metadata": {},
     "output_type": "display_data"
    },
    {
     "data": {
      "application/vnd.jupyter.widget-view+json": {
       "model_id": "af42710cdcc24a3ebc9f77f61b5326f8",
       "version_major": 2,
       "version_minor": 0
      },
      "text/plain": [
       "Loading checkpoint shards:   0%|          | 0/2 [00:00<?, ?it/s]"
      ]
     },
     "metadata": {},
     "output_type": "display_data"
    },
    {
     "name": "stderr",
     "output_type": "stream",
     "text": [
      "Generating reviews:  33%|███████████████                              | 1/3 [01:02<02:05, 62.86s/it]You seem to be using the pipelines sequentially on GPU. In order to maximize efficiency please use a dataset\n",
      "Generating reviews: 100%|█████████████████████████████████████████████| 3/3 [03:01<00:00, 60.55s/it]"
     ]
    },
    {
     "name": "stdout",
     "output_type": "stream",
     "text": [
      "    rating                                             review\n",
      "0        1  **Avoid This Place at All Costs - A Nightmaris...\n",
      "1        1  Title: A Disaster from Start to Finish - Avoid...\n",
      "2        1  I've had the misfortune of staying at this hot...\n",
      "3        1  **1/5 Stars - A Descent into Chaos at the 'Com...\n",
      "4        1  Title: A Stay to Forget: A Disaster of Epic Pr...\n",
      "5        1  Title: A Disappointing Stay at This Once-Promi...\n",
      "6        1  Title: A Scathing Disappointment - Avoid This ...\n",
      "7        1  **A Disaster at the Horizon Hotel**I'm still t...\n",
      "8        1  Title: Avoid This Hotel at All Costs - Overpri...\n",
      "9        1  I'm still trying to shake off the lingering fe...\n",
      "10       2  Title: A Disappointing Stay at the Oakwood Hot...\n",
      "11       2  I recently spent a weekend at the Oakwood Hote...\n",
      "12       2  My recent stay at this hotel was a decent expe...\n",
      "13       2  Average Experience at This AccommodationI rece...\n",
      "14       2  **Disappointing Stay at Oakwood Hotel**I recen...\n",
      "15       2  My recent stay at the Oakwood Hotel was a mixe...\n",
      "16       2  **A Disappointing Stay at [Hotel Name]**I rece...\n",
      "17       2  **A Disappointing Stay at This Hotel**I stayed...\n",
      "18       2  Title: A Disappointing Stay: Room and Service ...\n",
      "19       2  During my recent stay at this hotel, I was ini...\n",
      "20       3  I recently stayed at this hotel for a few nigh...\n",
      "21       3  I recently had the opportunity to stay at [Hot...\n",
      "22       3  Upon checking into this hotel, I was immediate...\n",
      "23       3  My recent stay at the hotel was a decidedly av...\n",
      "24       3  **The Middling Marvel: A Neutral Stay at the G...\n",
      "25       3  I recently had a stay at the hotel, a 4-star e...\n",
      "26       3  Upon arriving at the hotel, I was greeted by a...\n",
      "27       3  I recently spent a couple of nights at this ho...\n",
      "28       3  My recent stay at this hotel was an average ex...\n",
      "29       3  I recently spent a couple of nights at this ho...\n"
     ]
    },
    {
     "name": "stderr",
     "output_type": "stream",
     "text": [
      "\n"
     ]
    }
   ],
   "source": [
    "import torch\n",
    "from transformers import pipeline\n",
    "from tqdm import tqdm\n",
    "import pandas as pd\n",
    "\n",
    "\n",
    "device = \"cuda\" if torch.cuda.is_available() else \"cpu\"\n",
    "display(f\"Device: {device}\")\n",
    "model_id = \"meta-llama/Llama-3.2-3B-Instruct\"\n",
    "display(f\"Model: {model_id}\")\n",
    "\n",
    "pipe = pipeline(\n",
    "    model=model_id, \n",
    "    torch_dtype=torch.bfloat16, \n",
    "    device_map=\"auto\",  #\"balanced_low_0\",\n",
    ")\n",
    "\n",
    "# Define review prompts for different ratings (with roles for the system and user)\n",
    "review_prompts = [\n",
    "    {\"rating\": 1, \"prompt\": \"Write a very negative hotel review with poor service, dirty rooms, rude staff, and long wait times.\"},  # Rating 1 (Very Negative)\n",
    "    {\"rating\": 2, \"prompt\": \"Write a negative hotel review mentioning some problems, like slow service or slightly dirty rooms, but not extreme.\"},  # Rating 2 (Negative)\n",
    "    {\"rating\": 3, \"prompt\": \"Write a neutral hotel review describing an average experience with no strong feelings about the stay.\"},  # Rating 3 (Neutral)\n",
    "    #{\"rating\": 4, \"prompt\": \"Write a positive hotel review praising the clean rooms, friendly staff, and great service.\"},  # Rating 4 (Positive)\n",
    "    #{\"rating\": 5, \"prompt\": \"Write a very positive hotel review emphasizing an excellent stay, top-notch service, and cleanliness.\"}  # Rating 5 (Very Positive)\n",
    "]\n",
    "# Initialize a list to store the generated reviews\n",
    "generated_reviews = []\n",
    "number_of_reviews = 10\n",
    "# Loop through each review prompt and generate text for each\n",
    "for review in tqdm(review_prompts, desc=\"Generating reviews\", ncols=100):\n",
    "    for _ in range(number_of_reviews):  # Generate 10 reviews per rating\n",
    "        # Create the role-based structured prompt\n",
    "        messages = [\n",
    "            {\"role\": \"system\", \"content\": \"You are a guest how is writing a review of a hotel you visit. Use the prompt as referemce but do not start with the same sentence\"},\n",
    "            {\"role\": \"user\", \"content\": review[\"prompt\"]}\n",
    "        ]\n",
    "        \n",
    "        # Generate the review text using the pipeline\n",
    "        outputs = pipe(\n",
    "            messages,\n",
    "            max_new_tokens=300,\n",
    "            num_return_sequences=1,  # Only generate one review per prompt\n",
    "            do_sample=True,\n",
    "            temperature=1.0,\n",
    "            top_p=1,\n",
    "            pad_token_id=50256,\n",
    "        )\n",
    "        \n",
    "        # Extract the generated review text\n",
    "        generated_text =  outputs[0]['generated_text'][2]['content'].replace(\"\\n\", \"\")\n",
    "        # Store the generated review along with the rating in the list\n",
    "        generated_reviews.append({\n",
    "            \"rating\": review[\"rating\"], \n",
    "            \"review\": generated_text\n",
    "        })\n",
    "\n",
    "# Create a DataFrame from the list of generated reviews\n",
    "df_reviews = pd.DataFrame(generated_reviews)\n",
    "# Display the DataFrame\n",
    "print(df_reviews)\n",
    "# Optionally, save the DataFrame to a CSV file\n",
    "df_reviews.to_csv(\"hotel_reviews.csv\", index=False)"
   ]
  },
  {
   "cell_type": "code",
   "execution_count": 1,
   "metadata": {},
   "outputs": [
    {
     "data": {
      "application/vnd.jupyter.widget-view+json": {
       "model_id": "1e1f80731b234da19c7693d551312c2e",
       "version_major": 2,
       "version_minor": 0
      },
      "text/plain": [
       "Loading checkpoint shards:   0%|          | 0/2 [00:00<?, ?it/s]"
      ]
     },
     "metadata": {},
     "output_type": "display_data"
    },
    {
     "name": "stderr",
     "output_type": "stream",
     "text": [
      "Generating reviews:  31%|█████████████▏                            | 10/32 [16:46<36:42, 100.10s/it]You seem to be using the pipelines sequentially on GPU. In order to maximize efficiency please use a dataset\n",
      "Generating reviews: 100%|██████████████████████████████████████████| 32/32 [55:28<00:00, 104.00s/it]"
     ]
    },
    {
     "name": "stdout",
     "output_type": "stream",
     "text": [
      "     rating                                             review\n",
      "0         1  Title: A Disaster of a Stay: Avoid This Hotel ...\n",
      "1         1  Title: A Disaster of a Stay - Avoid This Hotel...\n",
      "2         1  I had the misfortune of staying at this hotel ...\n",
      "3         1  Title: An Unacceptable Nightmare - Avoid This ...\n",
      "4         1  Title: AVOID THIS HOTEL AT ALL COSTS  During m...\n",
      "..      ...                                                ...\n",
      "495       2  My recent stay at the Oakwood Hotel was a mixe...\n",
      "496       2  My recent stay at the Grand Plaza Hotel was a ...\n",
      "497       2  Title: A Solid but Not Stellar Stay  I recentl...\n",
      "498       2  **A Solid but Not Stellar Stay**  During my re...\n",
      "499       2  My recent stay at this hotel was a mixed bag, ...\n",
      "\n",
      "[500 rows x 2 columns]\n"
     ]
    },
    {
     "name": "stderr",
     "output_type": "stream",
     "text": [
      "\n"
     ]
    }
   ],
   "source": [
    "import torch\n",
    "from transformers import pipeline\n",
    "from tqdm import tqdm\n",
    "import pandas as pd\n",
    "\n",
    "# Configuración del modelo\n",
    "model_id = \"meta-llama/Llama-3.2-3B-Instruct\"\n",
    "\n",
    "# Inicialización del pipeline con optimización de memoria\n",
    "pipe = pipeline(\n",
    "    model=model_id, \n",
    "    torch_dtype=torch.bfloat16, \n",
    "    device_map=\"auto\",\n",
    ")\n",
    "\n",
    "# Prompts para generar reviews\n",
    "review_prompts = [\n",
    "    {\"rating\": 1, \"prompt\": \"Write a very negative hotel review with poor service, dirty rooms, rude staff, and long wait times.\"},  \n",
    "    {\"rating\": 2, \"prompt\": \"Write a negative hotel review mentioning some problems, like slow service or slightly dirty rooms, but not extreme.\"},  \n",
    "    #{\"rating\": 3, \"prompt\": \"Write a neutral hotel review describing an average experience with no strong feelings about the stay.\"},  \n",
    "]\n",
    "\n",
    "# Cantidad de reviews a generar por rating\n",
    "number_of_reviews = 250\n",
    "\n",
    "# Preparación de mensajes para el dataset\n",
    "data = []\n",
    "for review in review_prompts:\n",
    "    for _ in range(number_of_reviews):\n",
    "        messages = [\n",
    "            {\"role\": \"system\", \"content\": \"You are a guest writing a review of a hotel you visited. Use the prompt as a reference but do not start with the same sentence.\"},\n",
    "            {\"role\": \"user\", \"content\": review[\"prompt\"]}\n",
    "        ]\n",
    "        data.append({\"rating\": review[\"rating\"], \"messages\": messages})\n",
    "\n",
    "# Generación en lote utilizando tqdm para el progreso\n",
    "batch_size = 16  # Ajusta según la capacidad de tu GPU\n",
    "generated_reviews = []\n",
    "\n",
    "for i in tqdm(range(0, len(data), batch_size), desc=\"Generating reviews\", ncols=100):\n",
    "    batch = data[i:i+batch_size]\n",
    "    messages_batch = [item[\"messages\"] for item in batch]\n",
    "    ratings_batch = [item[\"rating\"] for item in batch]\n",
    "\n",
    "    # Generar en lote\n",
    "    outputs = pipe(\n",
    "        messages_batch,\n",
    "        max_new_tokens=300,\n",
    "        num_return_sequences=1,\n",
    "        do_sample=True,\n",
    "        temperature=1.0,\n",
    "        top_p=1,\n",
    "        pad_token_id=50256,\n",
    "    )\n",
    "    \n",
    "    # Extraer y almacenar resultados\n",
    "    for output, rating in zip(outputs, ratings_batch):\n",
    "        generated_text = output[0]['generated_text'][2]['content'].replace(\"\\n\\n\", \" \")\n",
    "        generated_text = output[0]['generated_text'][2]['content'].replace(\"\\n\", \" \")\n",
    "        generated_reviews.append({\"rating\": rating, \"review\": generated_text})\n",
    "\n",
    "# Crear un DataFrame con los resultados\n",
    "df_reviews = pd.DataFrame(generated_reviews)\n",
    "\n",
    "# Guardar en un archivo CSV\n",
    "df_reviews.to_csv(\"hotel_reviews.csv\", index=False)\n",
    "\n",
    "print(df_reviews)\n"
   ]
  }
 ],
 "metadata": {
  "kernelspec": {
   "display_name": "Python 3",
   "language": "python",
   "name": "python3"
  },
  "language_info": {
   "codemirror_mode": {
    "name": "ipython",
    "version": 3
   },
   "file_extension": ".py",
   "mimetype": "text/x-python",
   "name": "python",
   "nbconvert_exporter": "python",
   "pygments_lexer": "ipython3",
   "version": "3.12.7"
  }
 },
 "nbformat": 4,
 "nbformat_minor": 2
}
