{
 "cells": [
  {
   "cell_type": "code",
   "execution_count": null,
   "id": "c4ba79b7-ef63-4e9d-91ee-53a3051a6a3d",
   "metadata": {
    "scrolled": true
   },
   "outputs": [],
   "source": [
    "!pip install nltk\n",
    "!pip install numpy\n",
    "!pip install pandas\n",
    "!pip install textblob\n",
    "!pip install scikit-learn\n",
    "!pip install IPython"
   ]
  },
  {
   "cell_type": "code",
   "execution_count": null,
   "id": "fdffdf5b-4d57-411d-830a-be233d58a557",
   "metadata": {},
   "outputs": [],
   "source": [
    "import re\n",
    "import nltk\n",
    "import numpy as np\n",
    "import pandas as pd\n",
    "from textblob import TextBlob \n",
    "from multiprocessing import Pool\n",
    "from nltk.corpus import stopwords\n",
    "from nltk.tokenize import word_tokenize\n",
    "from IPython.display import display, HTML\n",
    "\n",
    "\n",
    "nltk.download('punkt')\n",
    "nltk.download('punkt_tab')\n",
    "nltk.download('stopwords')\n",
    "nltk.download('averaged_perceptron_tagger')"
   ]
  },
  {
   "cell_type": "code",
   "execution_count": 51,
   "id": "822e2d67-c6e7-4c73-8498-a75ae90718cb",
   "metadata": {},
   "outputs": [],
   "source": [
    "df = pd.read_csv('data/dataset.csv')\n",
    "df = df.rename(columns={'Review': 'review', 'Rating': 'rating'})"
   ]
  },
  {
   "cell_type": "code",
   "execution_count": 52,
   "id": "49284b8f-bd74-4a5d-b6d6-a929d9e67e1d",
   "metadata": {},
   "outputs": [
    {
     "data": {
      "text/html": [
       "<div>\n",
       "<style scoped>\n",
       "    .dataframe tbody tr th:only-of-type {\n",
       "        vertical-align: middle;\n",
       "    }\n",
       "\n",
       "    .dataframe tbody tr th {\n",
       "        vertical-align: top;\n",
       "    }\n",
       "\n",
       "    .dataframe thead th {\n",
       "        text-align: right;\n",
       "    }\n",
       "</style>\n",
       "<table border=\"1\" class=\"dataframe\">\n",
       "  <thead>\n",
       "    <tr style=\"text-align: right;\">\n",
       "      <th></th>\n",
       "      <th>review</th>\n",
       "      <th>rating</th>\n",
       "    </tr>\n",
       "  </thead>\n",
       "  <tbody>\n",
       "    <tr>\n",
       "      <th>0</th>\n",
       "      <td>nice hotel expensive parking got good deal sta...</td>\n",
       "      <td>4</td>\n",
       "    </tr>\n",
       "    <tr>\n",
       "      <th>1</th>\n",
       "      <td>ok nothing special charge diamond member hilto...</td>\n",
       "      <td>2</td>\n",
       "    </tr>\n",
       "    <tr>\n",
       "      <th>2</th>\n",
       "      <td>nice rooms not 4* experience hotel monaco seat...</td>\n",
       "      <td>3</td>\n",
       "    </tr>\n",
       "    <tr>\n",
       "      <th>3</th>\n",
       "      <td>unique, great stay, wonderful time hotel monac...</td>\n",
       "      <td>5</td>\n",
       "    </tr>\n",
       "    <tr>\n",
       "      <th>4</th>\n",
       "      <td>great stay great stay, went seahawk game aweso...</td>\n",
       "      <td>5</td>\n",
       "    </tr>\n",
       "  </tbody>\n",
       "</table>\n",
       "</div>"
      ],
      "text/plain": [
       "                                              review  rating\n",
       "0  nice hotel expensive parking got good deal sta...       4\n",
       "1  ok nothing special charge diamond member hilto...       2\n",
       "2  nice rooms not 4* experience hotel monaco seat...       3\n",
       "3  unique, great stay, wonderful time hotel monac...       5\n",
       "4  great stay great stay, went seahawk game aweso...       5"
      ]
     },
     "execution_count": 52,
     "metadata": {},
     "output_type": "execute_result"
    }
   ],
   "source": [
    "df.head(5)"
   ]
  },
  {
   "cell_type": "code",
   "execution_count": 61,
   "id": "55cebd0b-4527-42a5-bd5c-5b2e3fb6b2b6",
   "metadata": {},
   "outputs": [],
   "source": [
    "def preprocess_text(text):\n",
    "    # Convert to lowercase\n",
    "    text = str(text).lower()\n",
    "    \n",
    "    # Remove special characters and numbers\n",
    "    text = re.sub(r'[^a-zA-Z\\s]', '', text)\n",
    "    \n",
    "    # Basic spell correction using TextBlob\n",
    "    text = str(TextBlob(text).correct())\n",
    "    \n",
    "    # Tokenization\n",
    "    tokens = word_tokenize(text)\n",
    "    \n",
    "    # Remove stopwords\n",
    "    stop_words = set(stopwords.words('english'))\n",
    "    tokens = [word for word in tokens if word not in stop_words]\n",
    "    \n",
    "    # Join tokens back to text\n",
    "    return ' '.join(tokens)\n",
    "\n",
    "def parallel_preprocess(texts, n_cores=4):\n",
    "    with Pool(n_cores) as pool:\n",
    "        processed_texts = pool.map(preprocess_text, texts)\n",
    "    return processed_texts"
   ]
  },
  {
   "cell_type": "code",
   "execution_count": 62,
   "id": "078c8565-28ee-440d-bc23-be3e81b2fc0f",
   "metadata": {},
   "outputs": [
    {
     "data": {
      "text/plain": [
       "'nice hotel expensive parking got good deal stay hotel anniversary, arrived late evening took advice previous reviews did valet parking, check quick easy, little disappointed non-existent view room room clean nice size, bed comfortable woke stiff neck high pillows, not soundproof like heard music room night morning loud bangs doors opening closing hear people talking hallway, maybe just noisy neighbors, aveda bath products nice, did not goldfish stay nice touch taken advantage staying longer, location great walking distance shopping, overall nice experience having pay 40 parking night,  '"
      ]
     },
     "execution_count": 62,
     "metadata": {},
     "output_type": "execute_result"
    }
   ],
   "source": [
    "df['review'][0]"
   ]
  },
  {
   "cell_type": "code",
   "execution_count": 63,
   "id": "ea624f4f-757b-4f28-9d9a-9fe8ea4dd184",
   "metadata": {},
   "outputs": [
    {
     "data": {
      "text/plain": [
       "'nice hotel expensive parking got good deal stay hotel anniversary arrived late evening took advice previous reviews valet parking check quick easy little disappointed nonexistent view room room clean nice size bed comfortable woke stiff neck high pillows soundproof like heard music room night morning loud banks doors opening closing hear people talking halfway maybe noisy neighbors area bath products nice goldfish stay nice touch taken advantage staying longer location great walking distance shopping overall nice experience pay parking night'"
      ]
     },
     "execution_count": 63,
     "metadata": {},
     "output_type": "execute_result"
    }
   ],
   "source": [
    "preprocess_text(df['review'][0])"
   ]
  },
  {
   "cell_type": "code",
   "execution_count": 64,
   "id": "219c8f5f-3fbf-43a8-aa63-b2123b4d605f",
   "metadata": {},
   "outputs": [
    {
     "data": {
      "text/plain": [
       "\"nice rooms not 4* experience hotel monaco seattle good hotel n't 4* level.positives large bathroom mediterranean suite comfortable bed pillowsattentive housekeeping staffnegatives ac unit malfunctioned stay desk disorganized, missed 3 separate wakeup calls, concierge busy hard touch, did n't provide guidance special requests.tv hard use ipod sound dock suite non functioning. decided book mediterranean suite 3 night weekend stay 1st choice rest party filled, comparison w spent 45 night larger square footage room great soaking tub whirlpool jets nice shower.before stay hotel arrange car service price 53 tip reasonable driver waiting arrival.checkin easy downside room picked 2 person jacuzi tub no bath accessories salts bubble bath did n't stay, night got 12/1a checked voucher bottle champagne nice gesture fish waiting room, impression room huge open space felt room big, tv far away bed chore change channel, ipod dock broken disappointing.in morning way asked desk check thermostat said 65f 74 2 degrees warm try cover face night bright blue light kept, got room night no, 1st drop desk, called maintainence came look thermostat told play settings happy digital box wo n't work, asked wakeup 10am morning did n't happen, called later 6pm nap wakeup forgot, 10am wakeup morning yep forgotten.the bathroom facilities great room surprised room sold whirlpool bath tub n't bath amenities, great relax water jets going,  \""
      ]
     },
     "execution_count": 64,
     "metadata": {},
     "output_type": "execute_result"
    }
   ],
   "source": [
    "df['review'][2]"
   ]
  },
  {
   "cell_type": "code",
   "execution_count": 65,
   "id": "cd570b00-b926-43b1-beb9-b041cb55a8c5",
   "metadata": {},
   "outputs": [
    {
     "data": {
      "text/plain": [
       "'nice rooms experience hotel monarch seattle good hotel levelpositives large bathroom mediterranean suite comfortable bed pillowsattentive housekeeping staffnegatives ac unit malfunctioned stay desk disorganized missed separate wake calls converge busy hard touch provide guidance special requests hard use upon sound dock suite non sanctioning decided book mediterranean suite night weekend stay st choice rest party filled comparison w spent night larger square forage room great soaking tub whirlpool jets nice showerbefore stay hotel arrange car service price tip reasonable driver waiting arrivalcheckin easy downside room picked person jacuzi tub bath accessories salts bubble bath stay night got checked voucher bottle champagne nice gesture fish waiting room impression room huge open space felt room big far away bed chose change channel upon dock broken disappointing morning way asked desk check thermostat said f degrees warm try cover face night bright blue light kept got room night st drop desk called maintainence came look thermostat told play settings happy digital box wo work asked wake morning happen called later pm nap wake forgot wake morning yep forgottenthe bathroom facilities great room surprised room sold whirlpool bath tub bath amenities great relax water jets going'"
      ]
     },
     "execution_count": 65,
     "metadata": {},
     "output_type": "execute_result"
    }
   ],
   "source": [
    "preprocess_text(df['review'][2])"
   ]
  },
  {
   "cell_type": "code",
   "execution_count": null,
   "id": "ad1182c2-4db6-401d-a7d3-19c4aa4d58aa",
   "metadata": {},
   "outputs": [],
   "source": [
    "# 3. Apply preprocessing\n",
    "df['cleaned_review'] = parallel_preprocess(df['review'])"
   ]
  },
  {
   "cell_type": "code",
   "execution_count": null,
   "id": "24b7f357-e895-4e52-a878-db4b9ca0a210",
   "metadata": {},
   "outputs": [],
   "source": [
    "df.to_csv('data/cleaned_dataset.csv', index=False)"
   ]
  },
  {
   "cell_type": "code",
   "execution_count": 49,
   "id": "2aca5d44-fd3b-4dbe-a350-30997f720ce8",
   "metadata": {},
   "outputs": [],
   "source": [
    "\n",
    "# 1. Simple side-by-side comparison\n",
    "def show_comparison(original, cleaned, n_samples=5):\n",
    "    comparison_df = pd.DataFrame({\n",
    "        'Original Text': original,\n",
    "        'Cleaned Text': cleaned\n",
    "    })\n",
    "    \n",
    "    # Show random samples\n",
    "    display(comparison_df.sample(n=n_samples))\n",
    "\n",
    "# 2. Highlighting differences\n",
    "def highlight_differences(text1, text2):\n",
    "    \"\"\"Highlight words that are different\"\"\"\n",
    "    words1 = set(text1.split())\n",
    "    words2 = set(text2.split())\n",
    "    \n",
    "    different_words = words1.symmetric_difference(words2)\n",
    "    \n",
    "    html = f\"\"\"\n",
    "    <div style=\"display: flex; gap: 20px;\">\n",
    "        <div style=\"flex: 1;\">\n",
    "            <h4>Original:</h4>\n",
    "            <p>{''.join([f'<span style=\"background-color: yellow\">{w}</span> ' if w in different_words else f'{w} ' for w in text1.split()])}</p>\n",
    "        </div>\n",
    "        <div style=\"flex: 1;\">\n",
    "            <h4>Cleaned:</h4>\n",
    "            <p>{''.join([f'<span style=\"background-color: yellow\">{w}</span> ' if w in different_words else f'{w} ' for w in text2.split()])}</p>\n",
    "        </div>\n",
    "    </div>\n",
    "    \"\"\"\n",
    "    return HTML(html)"
   ]
  },
  {
   "cell_type": "code",
   "execution_count": null,
   "id": "f405af62-f146-402d-bfcb-ec705f7ed46b",
   "metadata": {},
   "outputs": [],
   "source": [
    "# 4. Create feature matrix using TF-IDF\n",
    "tfidf = TfidfVectorizer(\n",
    "    max_features=5000,  # Limit vocabulary size\n",
    "    min_df=5,          # Minimum document frequency\n",
    "    max_df=0.95        # Maximum document frequency\n",
    ")\n",
    "\n",
    "X = tfidf.fit_transform(df['cleaned_review'])\n",
    "y = df['rating']\n",
    "\n",
    "# 5. Split data\n",
    "X_train, X_test, y_train, y_test = train_test_split(\n",
    "    X, y, test_size=0.2, random_state=42\n",
    ")\n",
    "\n",
    "# 6. Train model\n",
    "model = LogisticRegression(\n",
    "    multi_class='multinomial',\n",
    "    max_iter=1000\n",
    ")\n",
    "model.fit(X_train, y_train)\n",
    "\n",
    "# 7. Evaluate\n",
    "y_pred = model.predict(X_test)\n",
    "print(classification_report(y_test, y_pred))"
   ]
  }
 ],
 "metadata": {
  "kernelspec": {
   "display_name": "Python 3 (ipykernel)",
   "language": "python",
   "name": "python3"
  },
  "language_info": {
   "codemirror_mode": {
    "name": "ipython",
    "version": 3
   },
   "file_extension": ".py",
   "mimetype": "text/x-python",
   "name": "python",
   "nbconvert_exporter": "python",
   "pygments_lexer": "ipython3",
   "version": "3.10.12"
  }
 },
 "nbformat": 4,
 "nbformat_minor": 5
}
